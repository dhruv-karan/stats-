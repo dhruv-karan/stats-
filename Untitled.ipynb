{
 "cells": [
  {
   "cell_type": "code",
   "execution_count": 1,
   "metadata": {},
   "outputs": [],
   "source": [
    "import pandas as pd\n",
    "import statistics\n",
    "import matplotlib.pyplot as plt\n"
   ]
  },
  {
   "cell_type": "code",
   "execution_count": null,
   "metadata": {},
   "outputs": [],
   "source": []
  },
  {
   "cell_type": "code",
   "execution_count": 2,
   "metadata": {},
   "outputs": [
    {
     "name": "stderr",
     "output_type": "stream",
     "text": [
      "/home/dhruv/.local/lib/python3.6/site-packages/IPython/core/interactiveshell.py:3057: DtypeWarning: Columns (3,4,5,6,12) have mixed types. Specify dtype option on import or set low_memory=False.\n",
      "  interactivity=interactivity, compiler=compiler, result=result)\n"
     ]
    }
   ],
   "source": [
    "df = pd.read_csv('Salaries.csv')"
   ]
  },
  {
   "cell_type": "code",
   "execution_count": 3,
   "metadata": {
    "scrolled": true
   },
   "outputs": [
    {
     "data": {
      "text/plain": [
       "Index(['Id', 'EmployeeName', 'JobTitle', 'BasePay', 'OvertimePay', 'OtherPay',\n",
       "       'Benefits', 'TotalPay', 'TotalPayBenefits', 'Year', 'Notes', 'Agency',\n",
       "       'Status'],\n",
       "      dtype='object')"
      ]
     },
     "execution_count": 3,
     "metadata": {},
     "output_type": "execute_result"
    }
   ],
   "source": [
    "df.columns"
   ]
  },
  {
   "cell_type": "code",
   "execution_count": 4,
   "metadata": {},
   "outputs": [],
   "source": [
    "sample1= df['TotalPay'].sample(n=1000)\n",
    "sample2= df['TotalPay'].sample(n=1000)\n",
    "sample3= df['TotalPay'].sample(n=1000)\n",
    "sample4= df['TotalPay'].sample(n=1000)"
   ]
  },
  {
   "cell_type": "code",
   "execution_count": 5,
   "metadata": {},
   "outputs": [
    {
     "data": {
      "text/plain": [
       "<matplotlib.axes._subplots.AxesSubplot at 0x7f314292b588>"
      ]
     },
     "execution_count": 5,
     "metadata": {},
     "output_type": "execute_result"
    },
    {
     "data": {
      "image/png": "[encoded data removed]",
      "text/plain": [
       "<Figure size 432x288 with 1 Axes>"
      ]
     },
     "metadata": {
      "needs_background": "light"
     },
     "output_type": "display_data"
    }
   ],
   "source": [
    "sample1.hist()\n"
   ]
  },
  {
   "cell_type": "code",
   "execution_count": 6,
   "metadata": {},
   "outputs": [
    {
     "data": {
      "text/plain": [
       "<matplotlib.axes._subplots.AxesSubplot at 0x7f3142524160>"
      ]
     },
     "execution_count": 6,
     "metadata": {},
     "output_type": "execute_result"
    },
    {
     "data": {
      "image/png": "[encoded data removed]",
      "text/plain": [
       "<Figure size 432x288 with 1 Axes>"
      ]
     },
     "metadata": {
      "needs_background": "light"
     },
     "output_type": "display_data"
    }
   ],
   "source": [
    "sample2.hist()\n"
   ]
  },
  {
   "cell_type": "code",
   "execution_count": 7,
   "metadata": {},
   "outputs": [
    {
     "data": {
      "text/plain": [
       "<matplotlib.axes._subplots.AxesSubplot at 0x7f313f4b3358>"
      ]
     },
     "execution_count": 7,
     "metadata": {},
     "output_type": "execute_result"
    },
    {
     "data": {
      "image/png": "[encoded data removed]",
      "text/plain": [
       "<Figure size 432x288 with 1 Axes>"
      ]
     },
     "metadata": {
      "needs_background": "light"
     },
     "output_type": "display_data"
    }
   ],
   "source": [
    "sample3.hist()"
   ]
  },
  {
   "cell_type": "code",
   "execution_count": 8,
   "metadata": {},
   "outputs": [
    {
     "data": {
      "text/plain": [
       "<matplotlib.axes._subplots.AxesSubplot at 0x7f313f431438>"
      ]
     },
     "execution_count": 8,
     "metadata": {},
     "output_type": "execute_result"
    },
    {
     "data": {
      "image/png": "[encoded data removed]",
      "text/plain": [
       "<Figure size 432x288 with 1 Axes>"
      ]
     },
     "metadata": {
      "needs_background": "light"
     },
     "output_type": "display_data"
    }
   ],
   "source": [
    "sample4.hist()"
   ]
  },
  {
   "cell_type": "code",
   "execution_count": 9,
   "metadata": {},
   "outputs": [
    {
     "data": {
      "text/plain": [
       "148654"
      ]
     },
     "execution_count": 9,
     "metadata": {},
     "output_type": "execute_result"
    }
   ],
   "source": [
    "len(df['TotalPay'])"
   ]
  },
  {
   "cell_type": "markdown",
   "metadata": {},
   "source": [
    "mean = x1+x2+.......+xn/n(highly effected by outliers).\n",
    "\n",
    "Median\n",
    "arrange the data in ascending order and the median for n== odd, n+1/2 position\n",
    "for even n , n+1/2 ,n+2 postion mean\n",
    "\n",
    "mode = Most number of frequency(mode should noot be greater then 3 number)\n"
   ]
  },
  {
   "cell_type": "code",
   "execution_count": 10,
   "metadata": {},
   "outputs": [
    {
     "name": "stdout",
     "output_type": "stream",
     "text": [
      "72872.89998 68216.305\n"
     ]
    }
   ],
   "source": [
    "mean1 = statistics.mean(sample1)\n",
    "median1 = statistics.median(sample1)\n",
    "print(mean1,median1)"
   ]
  },
  {
   "cell_type": "code",
   "execution_count": 11,
   "metadata": {},
   "outputs": [
    {
     "name": "stdout",
     "output_type": "stream",
     "text": [
      "75351.73132 70995.19\n"
     ]
    }
   ],
   "source": [
    "mean2 = statistics.mean(sample2)\n",
    "median2 = statistics.median(sample2)\n",
    "print(mean2,median2)"
   ]
  },
  {
   "cell_type": "code",
   "execution_count": 12,
   "metadata": {},
   "outputs": [
    {
     "name": "stdout",
     "output_type": "stream",
     "text": [
      "72723.7243 70863.375\n"
     ]
    }
   ],
   "source": [
    "mean3 = statistics.mean(sample3)\n",
    "median3 = statistics.median(sample3)\n",
    "print(mean3,median3)"
   ]
  },
  {
   "cell_type": "code",
   "execution_count": 13,
   "metadata": {},
   "outputs": [
    {
     "name": "stdout",
     "output_type": "stream",
     "text": [
      "73926.45459 71774.805\n"
     ]
    }
   ],
   "source": [
    "mean4 = statistics.mean(sample4)\n",
    "median4 = statistics.median(sample4)\n",
    "print(mean4,median4)"
   ]
  },
  {
   "cell_type": "markdown",
   "metadata": {},
   "source": [
    "SKEWNESS\n",
    "measure the central tendency of data\n",
    "mean>median right skewed\n",
    "median>mean left skewed\n",
    "median == mean symetrical"
   ]
  },
  {
   "cell_type": "code",
   "execution_count": 14,
   "metadata": {},
   "outputs": [
    {
     "data": {
      "text/plain": [
       "0.7091232274255985"
      ]
     },
     "execution_count": 14,
     "metadata": {},
     "output_type": "execute_result"
    }
   ],
   "source": [
    "sample1.skew(axis = 0, skipna = True)"
   ]
  },
  {
   "cell_type": "code",
   "execution_count": 15,
   "metadata": {},
   "outputs": [
    {
     "data": {
      "text/plain": [
       "0.5658224572635862"
      ]
     },
     "execution_count": 15,
     "metadata": {},
     "output_type": "execute_result"
    }
   ],
   "source": [
    "sample2.skew(axis=0)"
   ]
  },
  {
   "cell_type": "code",
   "execution_count": 16,
   "metadata": {},
   "outputs": [
    {
     "data": {
      "text/plain": [
       "0.933553598953277"
      ]
     },
     "execution_count": 16,
     "metadata": {},
     "output_type": "execute_result"
    }
   ],
   "source": [
    "sample3.skew(axis=0)"
   ]
  },
  {
   "cell_type": "code",
   "execution_count": 17,
   "metadata": {},
   "outputs": [
    {
     "data": {
      "text/plain": [
       "0.6591872078754233"
      ]
     },
     "execution_count": 17,
     "metadata": {},
     "output_type": "execute_result"
    }
   ],
   "source": [
    "sample4.skew(axis=0)"
   ]
  },
  {
   "cell_type": "markdown",
   "metadata": {},
   "source": [
    "from above histogram and the mean median value v know our all the sample is right skewd i.e outliers lies on right"
   ]
  },
  {
   "cell_type": "markdown",
   "metadata": {},
   "source": [
    "VARIANCE\n",
    "Variance is a measurement of values diff from central tendency\n",
    "(sigma)**2 = (x1-mean)**2 +(x2-mean)**2 +........../N (This is population varaince)\n",
    "(sigma)**2 = (x1-mean)**2 +(x2-mean)**2 +........../N-1 (This is sample varaince)"
   ]
  },
  {
   "cell_type": "code",
   "execution_count": 18,
   "metadata": {},
   "outputs": [
    {
     "name": "stdout",
     "output_type": "stream",
     "text": [
      "2700932362.8337984 2515424390.0544157 2525001980.2794404 2522079221.068329\n"
     ]
    }
   ],
   "source": [
    "print(statistics.variance(sample1),statistics.variance(sample2),statistics.variance(sample3),statistics.variance(sample4))"
   ]
  },
  {
   "cell_type": "markdown",
   "metadata": {},
   "source": [
    "STANDARD DEVIATION\n",
    "SD = root of varaince"
   ]
  },
  {
   "cell_type": "markdown",
   "metadata": {},
   "source": [
    "COFFICIENT OF VARIATION(realative standard devistion)\n",
    "CV= standard dev/mean"
   ]
  },
  {
   "cell_type": "code",
   "execution_count": 19,
   "metadata": {},
   "outputs": [],
   "source": [
    "indain_rupees1 = 70*sample1\n",
    "indian_rupees2 = 70*sample2\n",
    "indain_rupees3 = 70*sample3\n",
    "indian_rupees4 = 70*sample4"
   ]
  },
  {
   "cell_type": "code",
   "execution_count": 20,
   "metadata": {},
   "outputs": [
    {
     "name": "stdout",
     "output_type": "stream",
     "text": [
      "0.7131662817383649 0.7131662817383649\n"
     ]
    }
   ],
   "source": [
    "print(statistics.stdev(indain_rupees1)/statistics.mean(indain_rupees1),statistics.stdev(sample1)/statistics.mean(sample1))"
   ]
  },
  {
   "cell_type": "code",
   "execution_count": 21,
   "metadata": {},
   "outputs": [
    {
     "name": "stdout",
     "output_type": "stream",
     "text": [
      "0.6655985979519837 0.6655985979519836\n"
     ]
    }
   ],
   "source": [
    "print(statistics.stdev(indian_rupees2)/statistics.mean(indian_rupees2),statistics.stdev(sample2)/statistics.mean(sample2))"
   ]
  },
  {
   "cell_type": "code",
   "execution_count": 22,
   "metadata": {},
   "outputs": [
    {
     "name": "stdout",
     "output_type": "stream",
     "text": [
      "0.6909629325751884 0.6909629325751884\n"
     ]
    }
   ],
   "source": [
    "print(statistics.stdev(indain_rupees3)/statistics.mean(indain_rupees3),statistics.stdev(sample3)/statistics.mean(sample3))"
   ]
  },
  {
   "cell_type": "code",
   "execution_count": 23,
   "metadata": {},
   "outputs": [
    {
     "name": "stdout",
     "output_type": "stream",
     "text": [
      "0.6793279501645799 0.6793279501645799\n"
     ]
    }
   ],
   "source": [
    "print(statistics.stdev(indian_rupees4)/statistics.mean(indian_rupees4),statistics.stdev(sample4)/statistics.mean(sample4))"
   ]
  },
  {
   "cell_type": "markdown",
   "metadata": {},
   "source": [
    "Hence v can see all the samples satisfy CV "
   ]
  },
  {
   "cell_type": "markdown",
   "metadata": {},
   "source": [
    "SAMPLE/POPULATION COVARIANCE\n",
    "it measures the realtion between the varaibles\n",
    "Sxy= (Xi-mean)*(Yi-mean)+(Xi-mean)*(Yi-mean)+...... /n-1\n",
    "if Sxy>0 then both move together\n",
    "Sxy<0 opposite coreation\n",
    "Sxy=0 then no corealtion"
   ]
  },
  {
   "cell_type": "code",
   "execution_count": 24,
   "metadata": {},
   "outputs": [],
   "source": [
    "base_pay = df['TotalPayBenefits'].sample(n=1000)\n",
    "base_mean = statistics.mean(base_pay)"
   ]
  },
  {
   "cell_type": "code",
   "execution_count": null,
   "metadata": {},
   "outputs": [],
   "source": []
  },
  {
   "cell_type": "code",
   "execution_count": null,
   "metadata": {},
   "outputs": [],
   "source": []
  },
  {
   "cell_type": "code",
   "execution_count": 25,
   "metadata": {},
   "outputs": [
    {
     "name": "stdout",
     "output_type": "stream",
     "text": [
      "-37563392.15435143\n"
     ]
    }
   ],
   "source": [
    "corr = 0\n",
    "for i,j in zip(sample1,base_pay):\n",
    "    try:\n",
    "        corr +=((i-mean1)*(j-base_mean))\n",
    "    except:\n",
    "        pass\n",
    "corr = corr/(len(base_pay)-1)\n",
    "print(corr)"
   ]
  },
  {
   "cell_type": "markdown",
   "metadata": {},
   "source": [
    "this is very obvious that total pay benefits have +ve corealton with base\n",
    "lets see next how much it realtes"
   ]
  },
  {
   "cell_type": "markdown",
   "metadata": {},
   "source": [
    "corealtion cofficent is \n",
    "covariance/std(x)*std(y)"
   ]
  },
  {
   "cell_type": "code",
   "execution_count": 26,
   "metadata": {},
   "outputs": [
    {
     "name": "stdout",
     "output_type": "stream",
     "text": [
      "-0.011489869135948533\n"
     ]
    }
   ],
   "source": [
    "corelation_coff =  corr/(statistics.stdev(sample1)*statistics.stdev(base_pay))\n",
    "print(corelation_coff)"
   ]
  },
  {
   "cell_type": "code",
   "execution_count": null,
   "metadata": {},
   "outputs": [],
   "source": []
  },
  {
   "cell_type": "markdown",
   "metadata": {},
   "source": [
    "INFERENTIAL STATISTICS"
   ]
  },
  {
   "cell_type": "markdown",
   "metadata": {},
   "source": [
    "Standard Noraml Distribution\n",
    "In which the mean =0 and SD=1\n",
    "\n",
    "from above results we can see that our total sal samples r approximately normally distributes with mean of 6300 and stdev\n",
    "\n",
    "lets make our sample a standard noraml distributed\n",
    "xi-mean/SD for every point and then calculate the mean and SD"
   ]
  },
  {
   "cell_type": "code",
   "execution_count": 47,
   "metadata": {},
   "outputs": [],
   "source": [
    "standariesed_array = []\n",
    "\n",
    "for i in sample1:\n",
    "    standariesed_array.append(i-mean1)\n"
   ]
  },
  {
   "cell_type": "markdown",
   "metadata": {},
   "source": [
    "Note + and - from a mean do not effect SD.\n",
    "recalculating the SD and mean"
   ]
  },
  {
   "cell_type": "code",
   "execution_count": 52,
   "metadata": {},
   "outputs": [
    {
     "data": {
      "text/plain": [
       "-2.0081643015146257e-12"
      ]
     },
     "execution_count": 52,
     "metadata": {},
     "output_type": "execute_result"
    }
   ],
   "source": [
    "statistics.mean(standariesed_array)"
   ]
  },
  {
   "cell_type": "code",
   "execution_count": null,
   "metadata": {},
   "outputs": [],
   "source": []
  },
  {
   "cell_type": "code",
   "execution_count": null,
   "metadata": {},
   "outputs": [],
   "source": []
  },
  {
   "cell_type": "markdown",
   "metadata": {},
   "source": [
    "CLT(CENTRAL LIMIT THEOREM)\n",
    "If we take a infinite random sample from population and take mean of all 1 and plot it then we will definaltely get noraml distribution irrespective of population distribution."
   ]
  },
  {
   "cell_type": "markdown",
   "metadata": {},
   "source": [
    "step1: Make 100 random sample from population of 1000 \n",
    "step2: take meam all of them \n",
    "step3: plot it \n",
    "step4: compare population and sample mean and SD"
   ]
  },
  {
   "cell_type": "code",
   "execution_count": 71,
   "metadata": {},
   "outputs": [],
   "source": [
    "#sample1\n",
    "samples = []\n",
    "for i in range(10000):\n",
    "    samp = df['TotalPay'].sample(n=50)\n",
    "    samples.append(samp)"
   ]
  },
  {
   "cell_type": "code",
   "execution_count": 72,
   "metadata": {},
   "outputs": [],
   "source": [
    "#sample2\n",
    "means = []\n",
    "for i in samples:\n",
    "    means.append(statistics.mean(i))"
   ]
  },
  {
   "cell_type": "code",
   "execution_count": 73,
   "metadata": {},
   "outputs": [
    {
     "data": {
      "text/plain": [
       "array([[<matplotlib.axes._subplots.AxesSubplot object at 0x7f313bec6e80>]],\n",
       "      dtype=object)"
      ]
     },
     "execution_count": 73,
     "metadata": {},
     "output_type": "execute_result"
    },
    {
     "data": {
      "image/png": "[encoded data removed]",
      "text/plain": [
       "<Figure size 432x288 with 1 Axes>"
      ]
     },
     "metadata": {
      "needs_background": "light"
     },
     "output_type": "display_data"
    }
   ],
   "source": [
    "#sample3\n",
    "pd.DataFrame(means).hist()"
   ]
  },
  {
   "cell_type": "code",
   "execution_count": 83,
   "metadata": {},
   "outputs": [],
   "source": [
    "#step4:\n",
    "samples_mean = statistics.mean(means)\n",
    "samples_var_divide_by_samples_len = statistics.variance(means)/50\n",
    "pop_mean = statistics.mean(df['TotalPay'])\n",
    "pop_sd = statistics.pvariance(df['TotalPay'])"
   ]
  },
  {
   "cell_type": "code",
   "execution_count": 84,
   "metadata": {},
   "outputs": [
    {
     "name": "stdout",
     "output_type": "stream",
     "text": [
      "75021.63781108 1014660.129170182 74768.32197169265 2551950654.682769\n"
     ]
    }
   ],
   "source": [
    "print(samples_mean,samples_var_divide_by_samples_len,pop_mean,pop_sd)"
   ]
  },
  {
   "cell_type": "markdown",
   "metadata": {},
   "source": [
    "NOTE:\n",
    "after taking random samples of different size and number we plot the grpah which shows the normal distribution\n",
    "samples mean and population means are almost same..\n",
    "But thier is some more varaiablity in SD."
   ]
  },
  {
   "cell_type": "markdown",
   "metadata": {},
   "source": [
    "SAMPLE_ERROR:\n",
    "SE = root of predicted_varaiance."
   ]
  },
  {
   "cell_type": "markdown",
   "metadata": {},
   "source": [
    "    "
   ]
  },
  {
   "cell_type": "code",
   "execution_count": null,
   "metadata": {},
   "outputs": [],
   "source": []
  },
  {
   "cell_type": "code",
   "execution_count": null,
   "metadata": {},
   "outputs": [],
   "source": []
  },
  {
   "cell_type": "code",
   "execution_count": null,
   "metadata": {},
   "outputs": [],
   "source": []
  },
  {
   "cell_type": "code",
   "execution_count": null,
   "metadata": {},
   "outputs": [],
   "source": []
  }
 ],
 "metadata": {
  "kernelspec": {
   "display_name": "Python 3",
   "language": "python",
   "name": "python3"
  },
  "language_info": {
   "codemirror_mode": {
    "name": "ipython",
    "version": 3
   },
   "file_extension": ".py",
   "mimetype": "text/x-python",
   "name": "python",
   "nbconvert_exporter": "python",
   "pygments_lexer": "ipython3",
   "version": "3.6.8"
  }
 },
 "nbformat": 4,
 "nbformat_minor": 2
}
