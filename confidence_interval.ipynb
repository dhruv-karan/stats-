{
 "cells": [
  {
   "cell_type": "code",
   "execution_count": 44,
   "metadata": {},
   "outputs": [],
   "source": [
    "import pandas as pd\n",
    "import statistics\n",
    "import math"
   ]
  },
  {
   "cell_type": "code",
   "execution_count": 45,
   "metadata": {},
   "outputs": [],
   "source": [
    "df = pd.read_csv('Salaries.csv')"
   ]
  },
  {
   "cell_type": "code",
   "execution_count": 46,
   "metadata": {},
   "outputs": [
    {
     "data": {
      "text/plain": [
       "Index(['Id', 'EmployeeName', 'JobTitle', 'BasePay', 'OvertimePay', 'OtherPay',\n",
       "       'Benefits', 'TotalPay', 'TotalPayBenefits', 'Year', 'Notes', 'Agency',\n",
       "       'Status'],\n",
       "      dtype='object')"
      ]
     },
     "execution_count": 46,
     "metadata": {},
     "output_type": "execute_result"
    }
   ],
   "source": [
    "df.columns"
   ]
  },
  {
   "cell_type": "code",
   "execution_count": 47,
   "metadata": {},
   "outputs": [],
   "source": [
    "pop_std = statistics.pstdev(df['TotalPay'])"
   ]
  },
  {
   "cell_type": "code",
   "execution_count": 48,
   "metadata": {},
   "outputs": [],
   "source": [
    "sample = df['TotalPay'].sample(n=1000)"
   ]
  },
  {
   "cell_type": "code",
   "execution_count": null,
   "metadata": {},
   "outputs": [],
   "source": []
  },
  {
   "cell_type": "code",
   "execution_count": 49,
   "metadata": {},
   "outputs": [],
   "source": [
    "sample_mean=statistics.mean(sample)\n",
    "standard_error = pop_std/math.sqrt(1000)"
   ]
  },
  {
   "cell_type": "markdown",
   "metadata": {},
   "source": [
    "PREDICTING THE CONFIDENCE INTERVAL\n",
    "[mean-realabilty_factor*standard_error, mean+realabilty_factor*standard_error]\n",
    "\n",
    "relablity factor also crtical value claculated from normal distribution of z-stats\n",
    "for 95% confidence, alpha 5%\n",
    "\n",
    "we find 1-alpha/2 value in table and add the corresponding rows and  columns \n",
    "that  gives realabilty_factor."
   ]
  },
  {
   "cell_type": "code",
   "execution_count": 50,
   "metadata": {},
   "outputs": [],
   "source": [
    "#95% confidence alpha = 0.05\n",
    "realabilty_factor=1.9+0.06"
   ]
  },
  {
   "cell_type": "code",
   "execution_count": 51,
   "metadata": {},
   "outputs": [
    {
     "name": "stdout",
     "output_type": "stream",
     "text": [
      "70100.82544560728 76362.95723439273\n"
     ]
    }
   ],
   "source": [
    "print(sample_mean-realabilty_factor*standard_error, sample_mean+realabilty_factor*standard_error)"
   ]
  },
  {
   "cell_type": "code",
   "execution_count": 52,
   "metadata": {},
   "outputs": [],
   "source": [
    "#99% confidence alpha = 0.01\n",
    "#alpha/2 = 0.005\n",
    "#1-alpha = 0.995\n",
    "realabilty_factor = 2.5+0.07"
   ]
  },
  {
   "cell_type": "code",
   "execution_count": 53,
   "metadata": {},
   "outputs": [
    {
     "name": "stdout",
     "output_type": "stream",
     "text": [
      "69126.3610601075 77337.4216198925\n"
     ]
    }
   ],
   "source": [
    "print(sample_mean-realabilty_factor*standard_error, sample_mean+realabilty_factor*standard_error)"
   ]
  },
  {
   "cell_type": "markdown",
   "metadata": {},
   "source": [
    "confidence interval stats that the 99% of predidted value lies in this region bigger the interval higher the confidence"
   ]
  },
  {
   "cell_type": "code",
   "execution_count": null,
   "metadata": {},
   "outputs": [],
   "source": []
  },
  {
   "cell_type": "markdown",
   "metadata": {},
   "source": [
    "STUDEBT's T DISTRIBUTION"
   ]
  },
  {
   "cell_type": "code",
   "execution_count": 54,
   "metadata": {},
   "outputs": [],
   "source": [
    "T_sample = df['TotalPay'].sample(n=101)\n",
    "t_mean = statistics.mean(T_sample)\n",
    "t_std = statistics.stdev(T_sample)\n",
    "standard_t_error = t_std/math.sqrt(101)"
   ]
  },
  {
   "cell_type": "markdown",
   "metadata": {},
   "source": [
    "for t determine the number of freedom in this case we have 100 degree of freedom"
   ]
  },
  {
   "cell_type": "code",
   "execution_count": 55,
   "metadata": {},
   "outputs": [],
   "source": [
    "#95% confidence i.e = aplha = 0.05 and in table aplha/2 and freedom crossection values gives crirtical va;ue\n",
    "realabilty_factor = 1.98\n",
    "\n"
   ]
  },
  {
   "cell_type": "code",
   "execution_count": 56,
   "metadata": {},
   "outputs": [
    {
     "name": "stdout",
     "output_type": "stream",
     "text": [
      "65670.81594110363 83775.4985143419\n"
     ]
    }
   ],
   "source": [
    "print(t_mean-realabilty_factor*standard_t_error, t_mean+realabilty_factor*standard_t_error)"
   ]
  },
  {
   "cell_type": "code",
   "execution_count": 57,
   "metadata": {},
   "outputs": [],
   "source": [
    "#99% confidence i.e = aplha = 0.01 and in table aplha/2 and freedom crossection values gives crirtical va;ue\n",
    "realabilty_factor = 3.39\n",
    "\n"
   ]
  },
  {
   "cell_type": "code",
   "execution_count": 58,
   "metadata": {},
   "outputs": [
    {
     "name": "stdout",
     "output_type": "stream",
     "text": [
      "59224.45169154152 90221.862763904\n"
     ]
    }
   ],
   "source": [
    "print(t_mean-realabilty_factor*standard_t_error, t_mean+realabilty_factor*standard_t_error)"
   ]
  },
  {
   "cell_type": "markdown",
   "metadata": {},
   "source": [
    "higher confidence level \n",
    "then high t,z statistcs\n",
    "higher margin of error and higher confidence interval"
   ]
  },
  {
   "cell_type": "code",
   "execution_count": null,
   "metadata": {},
   "outputs": [],
   "source": []
  },
  {
   "cell_type": "markdown",
   "metadata": {},
   "source": [
    "Till now we only explored the single varaiale population Now we will look into multi population with dependence and independecey\n",
    "IT has 4 cases\n",
    "1. depandent and with kown variance\n",
    "2. INdependent with known variance\n",
    "3. independent with unknown varaince but assumed equla\n",
    "4. Independent with unknown variance but assumed unequla"
   ]
  },
  {
   "cell_type": "code",
   "execution_count": 59,
   "metadata": {},
   "outputs": [],
   "source": [
    "#dependent varaible known varaiance\n",
    "sample_1 = list(df['TotalPay'].sample(n=25))\n",
    "sample_2 = list(df['TotalPayBenefits'].sample(n=25))"
   ]
  },
  {
   "cell_type": "code",
   "execution_count": 60,
   "metadata": {},
   "outputs": [
    {
     "name": "stdout",
     "output_type": "stream",
     "text": [
      "[8894.12, 50849.01, 39008.51, 5949.09, 72941.2, 51068.16, 103180.01, 108066.07, 6392.2, 63753.63, 82606.01, 129678.81, 55151.2, 134872.03, 9335.4, 77832.56, 59906.07, 48869.71, 0.0, 128417.88, 14201.72, 30745.41, 27439.34, 10279.78, 129055.3] [89893.38, 10392.75, 38679.23, 135731.43, 73858.21, 134034.42, 5673.6, 163621.71, 121709.09, 94602.57, 66734.96, 135220.08, 83857.1, 151590.88, 63618.76, 74192.14, 107484.37, 72813.1, 8748.1, 94683.69, 500.0, 96163.61, 100664.0, 11864.31, 122231.29]\n"
     ]
    }
   ],
   "source": [
    "print(sample_1,sample_2)"
   ]
  },
  {
   "cell_type": "code",
   "execution_count": 61,
   "metadata": {},
   "outputs": [],
   "source": [
    "# we have to check the varaiabilty between the variables with 95% confidence, 99%\n",
    "differ  =[i-j for i, j in zip(sample_1,sample_2)]"
   ]
  },
  {
   "cell_type": "code",
   "execution_count": 62,
   "metadata": {},
   "outputs": [
    {
     "data": {
      "text/plain": [
       "[-80999.26000000001,\n",
       " 40456.26,\n",
       " 329.27999999999884,\n",
       " -129782.34,\n",
       " -917.0100000000093,\n",
       " -82966.26000000001,\n",
       " 97506.40999999999,\n",
       " -55555.639999999985,\n",
       " -115316.89,\n",
       " -30848.94000000001,\n",
       " 15871.049999999988,\n",
       " -5541.2699999999895,\n",
       " -28705.90000000001,\n",
       " -16718.850000000006,\n",
       " -54283.36,\n",
       " 3640.4199999999983,\n",
       " -47578.299999999996,\n",
       " -23943.390000000007,\n",
       " -8748.1,\n",
       " 33734.19,\n",
       " 13701.72,\n",
       " -65418.2,\n",
       " -73224.66,\n",
       " -1584.5299999999988,\n",
       " 6824.010000000009]"
      ]
     },
     "execution_count": 62,
     "metadata": {},
     "output_type": "execute_result"
    }
   ],
   "source": [
    "differ"
   ]
  },
  {
   "cell_type": "code",
   "execution_count": 63,
   "metadata": {},
   "outputs": [],
   "source": [
    "differ_mean = statistics.mean(differ)\n",
    "differ_std = statistics.stdev(differ)\n",
    "standard_error = differ_std/math.sqrt(25)"
   ]
  },
  {
   "cell_type": "markdown",
   "metadata": {},
   "source": [
    "confidence interval\n",
    "CI = mean-+ t_stats*standard_Error"
   ]
  },
  {
   "cell_type": "code",
   "execution_count": 64,
   "metadata": {},
   "outputs": [
    {
     "name": "stdout",
     "output_type": "stream",
     "text": [
      "-45410.572065167944 -3394.9927348320525\n"
     ]
    }
   ],
   "source": [
    "print(differ_mean-2.064*standard_error,differ_mean+2.064*standard_error)"
   ]
  },
  {
   "cell_type": "code",
   "execution_count": null,
   "metadata": {},
   "outputs": [],
   "source": []
  },
  {
   "cell_type": "code",
   "execution_count": 65,
   "metadata": {},
   "outputs": [],
   "source": [
    "#independent with known variance\n",
    "# here we r finding the differnce in overtime and otherpay how much 1 differ from other\n"
   ]
  },
  {
   "cell_type": "code",
   "execution_count": 66,
   "metadata": {},
   "outputs": [],
   "source": [
    "sample_1 = []\n",
    "for i in df['OvertimePay']:\n",
    "    try:\n",
    "        if type(int(i)) == int:\n",
    "            sample_1.append(i)\n",
    "    except:\n",
    "        pass\n",
    "sample_2 = []\n",
    "for i in df['OtherPay']:\n",
    "    try:\n",
    "        if type(int(i))==int:\n",
    "            sample_2.append(i)\n",
    "    except:\n",
    "        pass"
   ]
  },
  {
   "cell_type": "code",
   "execution_count": 67,
   "metadata": {},
   "outputs": [],
   "source": [
    "s1_p_v = statistics.pstdev(sample_1)\n",
    "s2_p_v = statistics.pstdev(sample_2)\n",
    "# the total varaince is always +ve\n"
   ]
  },
  {
   "cell_type": "code",
   "execution_count": 68,
   "metadata": {},
   "outputs": [],
   "source": [
    "sample1 = list(pd.DataFrame(sample_1).sample(n=20)[0])\n",
    "sample2 = list(pd.DataFrame(sample_2).sample(n=17)[0])"
   ]
  },
  {
   "cell_type": "code",
   "execution_count": 69,
   "metadata": {},
   "outputs": [],
   "source": [
    "s1_mean = statistics.mean(sample1)\n",
    "s2_mean = statistics.mean(sample2)"
   ]
  },
  {
   "cell_type": "code",
   "execution_count": 70,
   "metadata": {},
   "outputs": [],
   "source": [
    "total_v = s1_p_v/math.sqrt(20)+s2_p_v/math.sqrt(17)\n",
    "diff_mean1 = s1_mean-s2_mean # this will give a interval around overtime i.e how much other pay correlated with overtime in a CI\n",
    "diff_mean2 = s2_mean-s1_mean"
   ]
  },
  {
   "cell_type": "code",
   "execution_count": 71,
   "metadata": {},
   "outputs": [],
   "source": [
    "# CI = diff_mean1 +- z_stats*total_v"
   ]
  },
  {
   "cell_type": "code",
   "execution_count": 72,
   "metadata": {},
   "outputs": [
    {
     "name": "stdout",
     "output_type": "stream",
     "text": [
      "-5756.352159610591 12837.615277257648\n"
     ]
    }
   ],
   "source": [
    "print(diff_mean1 -1.96*total_v,diff_mean1 +1.96*total_v )\n",
    "#interpretation :\n",
    "#we r 95% confident that the actual difference between 2 population overtime and other pay is somewhere between -5165 and \n",
    "# 13428 which means we cant say clearly in every case the overtime mean pay is greater than other pays."
   ]
  },
  {
   "cell_type": "code",
   "execution_count": 73,
   "metadata": {},
   "outputs": [
    {
     "name": "stdout",
     "output_type": "stream",
     "text": [
      "-12837.615277257648 5756.352159610591\n"
     ]
    }
   ],
   "source": [
    "print(diff_mean2 -1.96*total_v,diff_mean2 +1.96*total_v )"
   ]
  },
  {
   "cell_type": "code",
   "execution_count": null,
   "metadata": {},
   "outputs": [],
   "source": []
  },
  {
   "cell_type": "code",
   "execution_count": 74,
   "metadata": {},
   "outputs": [],
   "source": [
    "#independent with unknown varaince but assumed equal\n"
   ]
  },
  {
   "cell_type": "code",
   "execution_count": 75,
   "metadata": {},
   "outputs": [],
   "source": [
    "sample_pool_std = math.sqrt(((19-1)*s1_p_v**2 + (17-1)*s2_p_v**2)/19+17-2)"
   ]
  },
  {
   "cell_type": "code",
   "execution_count": 76,
   "metadata": {},
   "outputs": [],
   "source": [
    "#CI = diff_mea1 -+ stats*samlpe_pool_std"
   ]
  },
  {
   "cell_type": "code",
   "execution_count": 77,
   "metadata": {},
   "outputs": [
    {
     "name": "stdout",
     "output_type": "stream",
     "text": [
      "-25035.053997395848 32116.317115042908\n"
     ]
    }
   ],
   "source": [
    "print(diff_mean1-2.032*sample_pool_std,diff_mean1+2.032*sample_pool_std)"
   ]
  },
  {
   "cell_type": "code",
   "execution_count": 78,
   "metadata": {},
   "outputs": [
    {
     "name": "stdout",
     "output_type": "stream",
     "text": [
      "-32116.317115042908 25035.053997395848\n"
     ]
    }
   ],
   "source": [
    "print(diff_mean2-2.032*sample_pool_std,diff_mean2+2.032*sample_pool_std)"
   ]
  },
  {
   "cell_type": "code",
   "execution_count": null,
   "metadata": {},
   "outputs": [],
   "source": []
  },
  {
   "cell_type": "code",
   "execution_count": null,
   "metadata": {},
   "outputs": [],
   "source": [
    "#Indepdent with unknown and assumed different varaince\n"
   ]
  },
  {
   "cell_type": "code",
   "execution_count": null,
   "metadata": {},
   "outputs": [],
   "source": [
    "# The pool std,var is calculated same as above case ,\n",
    "# the only differs is the calculation of degree of freedom,\n",
    "#v = (var_x/size_x + var_y/size_y)**2/(((var_x/len_x)**2/len_x-1)+((var_y/len_y)**2/len_y-1) )"
   ]
  },
  {
   "cell_type": "code",
   "execution_count": null,
   "metadata": {},
   "outputs": [],
   "source": []
  },
  {
   "cell_type": "code",
   "execution_count": null,
   "metadata": {},
   "outputs": [],
   "source": []
  },
  {
   "cell_type": "code",
   "execution_count": null,
   "metadata": {},
   "outputs": [],
   "source": []
  },
  {
   "cell_type": "code",
   "execution_count": null,
   "metadata": {},
   "outputs": [],
   "source": []
  },
  {
   "cell_type": "code",
   "execution_count": null,
   "metadata": {},
   "outputs": [],
   "source": []
  },
  {
   "cell_type": "code",
   "execution_count": null,
   "metadata": {},
   "outputs": [],
   "source": []
  }
 ],
 "metadata": {
  "kernelspec": {
   "display_name": "Python 3",
   "language": "python",
   "name": "python3"
  },
  "language_info": {
   "codemirror_mode": {
    "name": "ipython",
    "version": 3
   },
   "file_extension": ".py",
   "mimetype": "text/x-python",
   "name": "python",
   "nbconvert_exporter": "python",
   "pygments_lexer": "ipython3",
   "version": "3.6.8"
  }
 },
 "nbformat": 4,
 "nbformat_minor": 2
}
